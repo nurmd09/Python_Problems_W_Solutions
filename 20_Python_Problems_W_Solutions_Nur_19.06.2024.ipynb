{
 "cells": [
  {
   "cell_type": "markdown",
   "id": "4ece786d",
   "metadata": {},
   "source": [
    "# 1. Write a program that swaps the values of two variables."
   ]
  },
  {
   "cell_type": "code",
   "execution_count": 1,
   "id": "277641b9",
   "metadata": {},
   "outputs": [],
   "source": [
    "var_a = 10\n",
    "var_b = 20"
   ]
  },
  {
   "cell_type": "code",
   "execution_count": 2,
   "id": "b0071bbd",
   "metadata": {},
   "outputs": [
    {
     "data": {
      "text/plain": [
       "10"
      ]
     },
     "execution_count": 2,
     "metadata": {},
     "output_type": "execute_result"
    }
   ],
   "source": [
    "var_a"
   ]
  },
  {
   "cell_type": "code",
   "execution_count": 3,
   "id": "1c6d9a4c",
   "metadata": {},
   "outputs": [
    {
     "data": {
      "text/plain": [
       "20"
      ]
     },
     "execution_count": 3,
     "metadata": {},
     "output_type": "execute_result"
    }
   ],
   "source": [
    "var_b"
   ]
  },
  {
   "cell_type": "code",
   "execution_count": 4,
   "id": "ed2f629c",
   "metadata": {},
   "outputs": [],
   "source": [
    "var_a, var_b = var_b, var_a"
   ]
  },
  {
   "cell_type": "code",
   "execution_count": 5,
   "id": "cb903a29",
   "metadata": {},
   "outputs": [
    {
     "data": {
      "text/plain": [
       "20"
      ]
     },
     "execution_count": 5,
     "metadata": {},
     "output_type": "execute_result"
    }
   ],
   "source": [
    "var_a"
   ]
  },
  {
   "cell_type": "code",
   "execution_count": 6,
   "id": "87fabb8d",
   "metadata": {},
   "outputs": [
    {
     "data": {
      "text/plain": [
       "10"
      ]
     },
     "execution_count": 6,
     "metadata": {},
     "output_type": "execute_result"
    }
   ],
   "source": [
    "var_b"
   ]
  },
  {
   "cell_type": "markdown",
   "id": "d0003bdf",
   "metadata": {},
   "source": [
    "# 2. Write a program that calculates the area of a rectangle given its length and width."
   ]
  },
  {
   "cell_type": "code",
   "execution_count": 13,
   "id": "0003805f",
   "metadata": {},
   "outputs": [
    {
     "name": "stdout",
     "output_type": "stream",
     "text": [
      "Enter length: 20.5\n",
      "Enter width: 20.5\n",
      "The area of the rectangle is:  420.25\n"
     ]
    }
   ],
   "source": [
    "length = float(input(\"Enter length: \"))\n",
    "width = float(input(\"Enter width: \"))\n",
    "area = length * width\n",
    "print(\"The area of the rectangle is: \", area)"
   ]
  },
  {
   "cell_type": "markdown",
   "id": "9eedfe26",
   "metadata": {},
   "source": [
    "# 3. Write a program that converts temperature from Fahrenheit to Celsius."
   ]
  },
  {
   "cell_type": "code",
   "execution_count": 14,
   "id": "f16e001e",
   "metadata": {},
   "outputs": [
    {
     "name": "stdout",
     "output_type": "stream",
     "text": [
      "Enter temperature in fahrenheit: 55.5\n",
      "The temperature in celsius is:  13.055555555555555\n"
     ]
    }
   ],
   "source": [
    "F_temp = float(input(\"Enter temperature in fahrenheit: \"))\n",
    "C_temp = (F_temp-32)*5/9\n",
    "print(\"The temperature in celsius is: \", C_temp)"
   ]
  },
  {
   "cell_type": "markdown",
   "id": "b08173aa",
   "metadata": {},
   "source": [
    "# 4. Write a program that calculates the volume of a sphere given its radius."
   ]
  },
  {
   "cell_type": "code",
   "execution_count": 16,
   "id": "7cf7e901",
   "metadata": {},
   "outputs": [
    {
     "name": "stdout",
     "output_type": "stream",
     "text": [
      "Enter radius here : 20\n",
      "The volume of sphere is :  33510.399999999994\n"
     ]
    }
   ],
   "source": [
    "radius = float(input(\"Enter radius here : \"))\n",
    "vol_sphere = 4/3*3.1416*radius**3\n",
    "print(\"The volume of sphere is : \", vol_sphere)"
   ]
  },
  {
   "cell_type": "markdown",
   "id": "4e824440",
   "metadata": {},
   "source": [
    "# 5. Write a program that finds the average of three numbers."
   ]
  },
  {
   "cell_type": "code",
   "execution_count": 17,
   "id": "90dcc63d",
   "metadata": {},
   "outputs": [
    {
     "name": "stdout",
     "output_type": "stream",
     "text": [
      "Enter first number: 20\n",
      "Enter second number: 30\n",
      "Enter third number: 50\n",
      "The average of three number is :  33.333333333333336\n"
     ]
    }
   ],
   "source": [
    "num1 = float(input(\"Enter first number: \"))\n",
    "num2 = float(input(\"Enter second number: \"))\n",
    "num3 = float(input(\"Enter third number: \"))\n",
    "average = (num1 + num2 + num3)/3\n",
    "print(\"The average of three number is : \", average)"
   ]
  },
  {
   "cell_type": "markdown",
   "id": "e54ea2ad",
   "metadata": {},
   "source": [
    "# 6. Write a program that determines if a number is even or odd."
   ]
  },
  {
   "cell_type": "code",
   "execution_count": 21,
   "id": "a5c3f4d8",
   "metadata": {},
   "outputs": [
    {
     "name": "stdout",
     "output_type": "stream",
     "text": [
      "Enter the number: 49\n",
      "The number is odd.\n"
     ]
    }
   ],
   "source": [
    "number = int(input(\"Enter the number: \"))\n",
    "if number%2 == 0:\n",
    "    print(\"The number is even.\")\n",
    "else:\n",
    "    print(\"The number is odd.\")"
   ]
  },
  {
   "cell_type": "markdown",
   "id": "48877af8",
   "metadata": {},
   "source": [
    "# 7. Write a program that finds the maximum of three numbers."
   ]
  },
  {
   "cell_type": "code",
   "execution_count": 23,
   "id": "5ed8b592",
   "metadata": {},
   "outputs": [
    {
     "name": "stdout",
     "output_type": "stream",
     "text": [
      "Enter number1 : 20\n",
      "Enter number2 : 60\n",
      "Enter number3 : 40\n",
      "60.0  is the largest\n"
     ]
    }
   ],
   "source": [
    "number1 = float(input(\"Enter number1 : \"))\n",
    "number2 = float(input(\"Enter number2 : \"))\n",
    "number3 = float(input(\"Enter number3 : \"))\n",
    "if number1>number2 and number1>number3:\n",
    "    print(number1, \" is the larget\")\n",
    "elif number2>number1 and number2>number3:\n",
    "    print(number2, \" is the largest\")\n",
    "else:\n",
    "    print(number3, \" is the largest\")"
   ]
  },
  {
   "cell_type": "markdown",
   "id": "e789d3a9",
   "metadata": {},
   "source": [
    "# 8. Write a program that determines if a year is a leap year or not."
   ]
  },
  {
   "cell_type": "code",
   "execution_count": 32,
   "id": "76de878b",
   "metadata": {},
   "outputs": [
    {
     "name": "stdout",
     "output_type": "stream",
     "text": [
      "Enter year : 2023\n",
      "2023  is not a leap year.\n"
     ]
    }
   ],
   "source": [
    "year = int(input(\"Enter year : \"))\n",
    "if year%4 == 0 or (year%400 == 0 and year%100 != 0):\n",
    "    print(year, \" is a leap year.\")\n",
    "else:\n",
    "    print(year, \" is not a leap year.\")"
   ]
  },
  {
   "cell_type": "markdown",
   "id": "2d5aee84",
   "metadata": {},
   "source": [
    "# 9. Write a program that determines if a number is positive, negative, or zero."
   ]
  },
  {
   "cell_type": "code",
   "execution_count": 38,
   "id": "a20920fa",
   "metadata": {},
   "outputs": [
    {
     "name": "stdout",
     "output_type": "stream",
     "text": [
      "Enter a number: -2\n",
      "-2.0  : The number is negative\n"
     ]
    }
   ],
   "source": [
    "Number = float(input(\"Enter a number: \"))\n",
    "if Number>0:\n",
    "    print(Number, \" : The number is positive\")\n",
    "elif Number<0:\n",
    "    print(Number, \" : The number is negative\")\n",
    "else:\n",
    "    print(Number, \" : The number is Zero\")"
   ]
  },
  {
   "cell_type": "markdown",
   "id": "d8ead64e",
   "metadata": {},
   "source": [
    "# 10. Write a program that calculates the grade based on a given percentage."
   ]
  },
  {
   "cell_type": "code",
   "execution_count": 41,
   "id": "2f8e36ef",
   "metadata": {},
   "outputs": [
    {
     "name": "stdout",
     "output_type": "stream",
     "text": [
      "Enter the percentage: 86\n",
      "A+\n"
     ]
    }
   ],
   "source": [
    "percentage = float(input(\"Enter the percentage: \"))\n",
    "if percentage >= 80:\n",
    "    print(\"A+\")\n",
    "elif percentage >=70:\n",
    "    print(\"A-\")\n",
    "elif percentage >=60:\n",
    "    print(\"B\")\n",
    "elif percentage >=50:\n",
    "    print(\"C\")\n",
    "elif percentage >=40:\n",
    "    print(\"D\")\n",
    "elif percentage >=33:\n",
    "    print(\"E\")\n",
    "else:\n",
    "    print(\"Failed\")"
   ]
  },
  {
   "cell_type": "markdown",
   "id": "44eb5f8c",
   "metadata": {},
   "source": [
    "# 11. Write a program that prints the first `n` natural numbers."
   ]
  },
  {
   "cell_type": "code",
   "execution_count": 42,
   "id": "8d356b5a",
   "metadata": {},
   "outputs": [
    {
     "name": "stdout",
     "output_type": "stream",
     "text": [
      "Enter a number: 10\n",
      "0\n",
      "1\n",
      "2\n",
      "3\n",
      "4\n",
      "5\n",
      "6\n",
      "7\n",
      "8\n",
      "9\n"
     ]
    }
   ],
   "source": [
    "n = int(input(\"Enter a number: \"))\n",
    "for i in range (n):\n",
    "    print(i)"
   ]
  },
  {
   "cell_type": "markdown",
   "id": "a98ff2ee",
   "metadata": {},
   "source": [
    "# 12. Write a program that calculates the factorial of a number."
   ]
  },
  {
   "cell_type": "code",
   "execution_count": 55,
   "id": "59735336",
   "metadata": {},
   "outputs": [
    {
     "name": "stdout",
     "output_type": "stream",
     "text": [
      "Enter a number: 5\n",
      "120\n"
     ]
    }
   ],
   "source": [
    "m = int(input(\"Enter a number: \"))\n",
    "\n",
    "total = 1\n",
    "for i in range(1, m+1):\n",
    "    total = total*i\n",
    "print(total)"
   ]
  },
  {
   "cell_type": "markdown",
   "id": "aa34a794",
   "metadata": {},
   "source": [
    "# 13. Write a program that generates a Fibonacci sequence of length `n`."
   ]
  },
  {
   "cell_type": "code",
   "execution_count": 20,
   "id": "ab5042cc",
   "metadata": {},
   "outputs": [
    {
     "name": "stdout",
     "output_type": "stream",
     "text": [
      "Enter the length of the fibonacci sequence: 29\n",
      "Fibonacci sequence of length 29: [0, 1, 1, 2, 3, 5, 8, 13, 21, 34, 55, 89, 144, 233, 377, 610, 987, 1597, 2584, 4181, 6765, 10946, 17711, 28657, 46368, 75025, 121393, 196418, 317811]\n"
     ]
    }
   ],
   "source": [
    "def g_fibonacci(n):\n",
    "    if n<=0:\n",
    "        return[]\n",
    "    elif n==1:\n",
    "        return[0]\n",
    "    elif n==2:\n",
    "        return[0, 1]\n",
    "    \n",
    "    f_sequence = [0, 1]\n",
    "    for i in range (2, n):\n",
    "        next_value = f_sequence[-1] + f_sequence[-2]\n",
    "        f_sequence.append(next_value)\n",
    "    \n",
    "    return f_sequence\n",
    "\n",
    "try:\n",
    "    n = int(input(\"Enter the length of the fibonacci sequence: \"))\n",
    "    if n<0:\n",
    "        print(\"Please enter a positive integer.\")\n",
    "    else:\n",
    "        f_sequence = g_fibonacci(n)\n",
    "        print(f\"Fibonacci sequence of length {n}: {f_sequence}\")\n",
    "except ValueError:\n",
    "    print(\"Invalid input. Please enter a positive integer\")"
   ]
  },
  {
   "cell_type": "markdown",
   "id": "cd82f544",
   "metadata": {},
   "source": [
    "# 14. Write a program that checks if a given number is prime or not."
   ]
  },
  {
   "cell_type": "code",
   "execution_count": 22,
   "id": "ca8c715c",
   "metadata": {},
   "outputs": [
    {
     "name": "stdout",
     "output_type": "stream",
     "text": [
      "Enter a number to check if it is prime: 29\n",
      "29 is a prime number.\n"
     ]
    }
   ],
   "source": [
    "def prime_number(n):\n",
    "    if n <= 1:\n",
    "        return False\n",
    "    if n == 2:\n",
    "        return True\n",
    "    if n % 2 == 0:\n",
    "        return False\n",
    "    for i in range (3, int(n**0.5)+1, 2):\n",
    "        if n % i == 0:\n",
    "            return False\n",
    "    return True\n",
    "\n",
    "num = int(input(\"Enter a number to check if it is prime: \"))\n",
    "\n",
    "if prime_number(num):\n",
    "    print(f\"{num} is a prime number.\")\n",
    "else:\n",
    "    print(f\"{num} is not a prime number.\")"
   ]
  },
  {
   "cell_type": "markdown",
   "id": "e6856e10",
   "metadata": {},
   "source": [
    "# 15. Write a program that prints the multiplication table of a given number."
   ]
  },
  {
   "cell_type": "code",
   "execution_count": 3,
   "id": "2c585ccb",
   "metadata": {},
   "outputs": [
    {
     "name": "stdout",
     "output_type": "stream",
     "text": [
      "Enter a number: 22\n",
      "Multiplication table for 22:\n",
      "22 x 1 = 22\n",
      "22 x 2 = 44\n",
      "22 x 3 = 66\n",
      "22 x 4 = 88\n",
      "22 x 5 = 110\n",
      "22 x 6 = 132\n",
      "22 x 7 = 154\n",
      "22 x 8 = 176\n",
      "22 x 9 = 198\n",
      "22 x 10 = 220\n"
     ]
    }
   ],
   "source": [
    "def print_multiplication_table(number):\n",
    "    print(f\"Multiplication table for {number}:\")\n",
    "    for i in range (1, 11):\n",
    "        print(f\"{number} x {i} = {number * i}\")\n",
    "\n",
    "n = int(input(\"Enter a number: \"))\n",
    "print_multiplication_table(n)"
   ]
  },
  {
   "cell_type": "markdown",
   "id": "4070e041",
   "metadata": {},
   "source": [
    "# 16. Write a program that finds the sum of all even numbers between 1 and `n`."
   ]
  },
  {
   "cell_type": "code",
   "execution_count": 6,
   "id": "5bc5529f",
   "metadata": {},
   "outputs": [
    {
     "name": "stdout",
     "output_type": "stream",
     "text": [
      "Enter a number: 22\n",
      "The sum of all even numbers between 1 and 22 is: 132\n"
     ]
    }
   ],
   "source": [
    "#Using for loop\n",
    "def sum_even_numbers(n):\n",
    "    total = 0\n",
    "    for i in range(2, n+1, 2):\n",
    "        total += i\n",
    "    return total\n",
    "\n",
    "n = int(input(\"Enter a number: \"))\n",
    "result = sum_even_numbers(n)\n",
    "print(f\"The sum of all even numbers between 1 and {n} is: {result}\")"
   ]
  },
  {
   "cell_type": "code",
   "execution_count": 7,
   "id": "2fd2887a",
   "metadata": {},
   "outputs": [
    {
     "name": "stdout",
     "output_type": "stream",
     "text": [
      "Enter a number: 22\n",
      "The sum of all even numbers between 1 and 22 is : 132\n"
     ]
    }
   ],
   "source": [
    "#using while loop\n",
    "def sum_of_even_numbers(n):\n",
    "    total = 0\n",
    "    i = 2\n",
    "    while i <= n:\n",
    "        total += i\n",
    "        i += 2\n",
    "    return total\n",
    "n = int(input(\"Enter a number: \"))\n",
    "result1 = sum_of_even_numbers(n)\n",
    "print(f\"The sum of all even numbers between 1 and {n} is : {result1}\")\n",
    "        "
   ]
  },
  {
   "cell_type": "markdown",
   "id": "b9db8036",
   "metadata": {},
   "source": [
    "# 17. Write a program that reverses a given number."
   ]
  },
  {
   "cell_type": "code",
   "execution_count": 5,
   "id": "ba51767c",
   "metadata": {},
   "outputs": [
    {
     "name": "stdout",
     "output_type": "stream",
     "text": [
      "Enter a number: 23\n",
      "The reversed number using for loop is: 32\n"
     ]
    }
   ],
   "source": [
    "def reverse_number(number):\n",
    "    reversed_number = 0\n",
    "    number_str = str(number)\n",
    "    for i in range(len(number_str)):\n",
    "        digit = int(number_str[len(number_str) - 1 - i])\n",
    "        reversed_number = reversed_number * 10 + digit\n",
    "    return reversed_number\n",
    "num = int(input(\"Enter a number: \"))\n",
    "reversed_num = reverse_number(num)\n",
    "print(f\"The reversed number using for loop is: {reversed_num}\")"
   ]
  },
  {
   "cell_type": "code",
   "execution_count": 9,
   "id": "9b820a6e",
   "metadata": {},
   "outputs": [
    {
     "name": "stdout",
     "output_type": "stream",
     "text": [
      "Enter a number: 23\n",
      "The reversed number using for loop is: 32\n"
     ]
    }
   ],
   "source": [
    "def reverse_number(number):\n",
    "    reversed_number = 0\n",
    "    while number>0:\n",
    "        digit = number%10\n",
    "        reversed_number = reversed_number * 10 + digit\n",
    "        number = number // 10\n",
    "        \n",
    "    return reversed_number\n",
    "\n",
    "num = int(input(\"Enter a number: \"))\n",
    "reversed_num = reverse_number(num)\n",
    "print(f\"The reversed number using for loop is: {reversed_num}\") \n",
    "        "
   ]
  },
  {
   "cell_type": "markdown",
   "id": "7b49c259",
   "metadata": {},
   "source": [
    "# 18. Write a program that checks if a given string, is a palindrome."
   ]
  },
  {
   "cell_type": "code",
   "execution_count": 12,
   "id": "840b2f34",
   "metadata": {},
   "outputs": [
    {
     "name": "stdout",
     "output_type": "stream",
     "text": [
      "Enter a string: nur\n",
      "nur is not a palindrom.\n"
     ]
    }
   ],
   "source": [
    "def palindrome(seq):\n",
    "    example_str = ''.join(seq.split()).lower()\n",
    "    return example_str == example_str[::-1]\n",
    "input_str = input(\"Enter a string: \")\n",
    "\n",
    "if palindrome(input_str):\n",
    "    print(f\"{input_str} is a palindrome.\")\n",
    "else:\n",
    "    print(f\"{input_str} is not a palindrom.\")"
   ]
  },
  {
   "cell_type": "code",
   "execution_count": null,
   "id": "1201f87b",
   "metadata": {},
   "outputs": [],
   "source": []
  },
  {
   "cell_type": "code",
   "execution_count": null,
   "id": "5f7fe816",
   "metadata": {},
   "outputs": [],
   "source": [
    "import random\n",
    "\n",
    "def guess_number():\n",
    "    # Generate a random number between 1 and 100\n",
    "    random_number = random.randint(1, 100)\n",
    "    guess = None\n",
    "    attempts = 0\n",
    "\n",
    "    print(\"I have generated a random number between 1 and 100.\")\n",
    "    print(\"Try to guess it!\")\n",
    "\n",
    "    # Loop until the user guesses the number\n",
    "    while guess != random_number:\n",
    "        guess = int(input(\"Enter your guess: \"))\n",
    "        attempts += 1\n",
    "\n",
    "        if guess < random_number:\n",
    "            print(\"Too low! Try again.\")\n",
    "        elif guess > random_number:\n",
    "            print(\"Too high! Try again.\")\n",
    "        else:\n",
    "            print(f\"Congratulations! You guessed the number {random_number} in {attempts} attempts.\")\n",
    "\n",
    "# Start the game\n",
    "guess_number()\n"
   ]
  },
  {
   "cell_type": "code",
   "execution_count": null,
   "id": "20ee641c",
   "metadata": {},
   "outputs": [
    {
     "name": "stdout",
     "output_type": "stream",
     "text": [
      "I have generated the random number between 1 and 100.\n",
      "Try to guess it!\n",
      "Enter your guess: 23\n",
      "Too low! try again.\n",
      "Enter your guess: 45\n",
      "Too low! try again.\n",
      "Enter your guess: 33\n",
      "Too low! try again.\n",
      "Enter your guess: 23\n",
      "Too low! try again.\n",
      "Enter your guess: 45\n",
      "Too low! try again.\n",
      "Enter your guess: 89\n",
      "Too high! try again. \n",
      "Enter your guess: 56\n",
      "Too low! try again.\n"
     ]
    }
   ],
   "source": [
    "import random\n",
    "\n",
    "def guess_number():\n",
    "    random_number = random.randint(1, 100)\n",
    "    guess = None\n",
    "    attempts = 0\n",
    "    \n",
    "    print(\"I have generated the random number between 1 and 100.\")\n",
    "    print(\"Try to guess it!\")\n",
    "\n",
    "    while guess != random_number:\n",
    "        guess = int(input(\"Enter your guess: \"))\n",
    "        attempts += 1\n",
    "\n",
    "        if guess < random_number:\n",
    "            print(\"Too low! try again.\")\n",
    "        elif guess > random_number:\n",
    "            print(\"Too high! try again. \")\n",
    "        else:\n",
    "            print(f\"Congratulations! You guessed the number {random_number} in {attempts} attempts.\")\n",
    "guess_number()"
   ]
  },
  {
   "cell_type": "markdown",
   "id": "041380b9",
   "metadata": {},
   "source": [
    "# 20. Write a program that finds the greatest common divisor (GCD) of two numbers."
   ]
  },
  {
   "cell_type": "code",
   "execution_count": 19,
   "id": "26bd1d8b",
   "metadata": {},
   "outputs": [
    {
     "name": "stdout",
     "output_type": "stream",
     "text": [
      "Enter the first number: 56\n",
      "Enter the second number: 42\n",
      "The GCD of 56 and 42 is 14.\n"
     ]
    }
   ],
   "source": [
    "def gcd(a, b):\n",
    "    while b!=0:\n",
    "        a, b = b, a%b\n",
    "    return a\n",
    "\n",
    "num1 = int(input(\"Enter the first number: \"))\n",
    "num2 = int(input(\"Enter the second number: \"))\n",
    "\n",
    "result = gcd(num1, num2)\n",
    "\n",
    "print(f\"The GCD of {num1} and {num2} is {result}.\")"
   ]
  },
  {
   "cell_type": "code",
   "execution_count": null,
   "id": "53992e76",
   "metadata": {},
   "outputs": [],
   "source": []
  }
 ],
 "metadata": {
  "kernelspec": {
   "display_name": "Python 3 (ipykernel)",
   "language": "python",
   "name": "python3"
  },
  "language_info": {
   "codemirror_mode": {
    "name": "ipython",
    "version": 3
   },
   "file_extension": ".py",
   "mimetype": "text/x-python",
   "name": "python",
   "nbconvert_exporter": "python",
   "pygments_lexer": "ipython3",
   "version": "3.11.5"
  }
 },
 "nbformat": 4,
 "nbformat_minor": 5
}
